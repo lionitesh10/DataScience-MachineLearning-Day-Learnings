{
 "cells": [
  {
   "cell_type": "code",
   "execution_count": 1,
   "id": "ef952d56",
   "metadata": {},
   "outputs": [],
   "source": [
    "import numpy as np\n",
    "import pandas as pd\n",
    "import matplotlib.pyplot as plt\n",
    "import seaborn as sns"
   ]
  },
  {
   "cell_type": "code",
   "execution_count": 2,
   "id": "86020d3c",
   "metadata": {},
   "outputs": [],
   "source": [
    "from sklearn.model_selection import train_test_split\n",
    "from sklearn.linear_model import LinearRegression\n",
    "from sklearn.metrics import mean_squared_error,r2_score,mean_absolute_error"
   ]
  },
  {
   "cell_type": "code",
   "execution_count": 3,
   "id": "09184bca",
   "metadata": {},
   "outputs": [],
   "source": [
    "data=pd.read_csv(\"Salary_Data.csv\")"
   ]
  },
  {
   "cell_type": "code",
   "execution_count": 20,
   "id": "372be829",
   "metadata": {},
   "outputs": [
    {
     "name": "stdout",
     "output_type": "stream",
     "text": [
      "    YearsExperience    Salary\n",
      "16              5.1   66029.0\n",
      "11              4.0   55794.0\n",
      "3               2.0   43525.0\n",
      "25              9.0  105582.0\n",
      "18              5.9   81363.0\n",
      "\n",
      "3.2     2\n",
      "4.0     2\n",
      "1.1     1\n",
      "5.3     1\n",
      "10.3    1\n",
      "9.6     1\n",
      "9.5     1\n",
      "9.0     1\n",
      "8.7     1\n",
      "8.2     1\n",
      "7.9     1\n",
      "7.1     1\n",
      "6.8     1\n",
      "6.0     1\n",
      "5.9     1\n",
      "5.1     1\n",
      "1.3     1\n",
      "4.9     1\n",
      "4.5     1\n",
      "4.1     1\n",
      "3.9     1\n",
      "3.7     1\n",
      "3.0     1\n",
      "2.9     1\n",
      "2.2     1\n",
      "2.0     1\n",
      "1.5     1\n",
      "10.5    1\n",
      "Name: YearsExperience, dtype: int64\n"
     ]
    }
   ],
   "source": [
    "print(data.sample(5))\n",
    "print(\"\")\n",
    "print(data['YearsExperience'].value_counts())"
   ]
  },
  {
   "cell_type": "code",
   "execution_count": 5,
   "id": "e997a6b1",
   "metadata": {},
   "outputs": [
    {
     "data": {
      "text/plain": [
       "<AxesSubplot:xlabel='YearsExperience', ylabel='Salary'>"
      ]
     },
     "execution_count": 5,
     "metadata": {},
     "output_type": "execute_result"
    },
    {
     "data": {
      "image/png": "[encoded data removed]",
      "text/plain": [
       "<Figure size 864x360 with 1 Axes>"
      ]
     },
     "metadata": {
      "needs_background": "light"
     },
     "output_type": "display_data"
    }
   ],
   "source": [
    "fig=plt.figure(figsize=(12,5))\n",
    "sns.barplot(x='YearsExperience',y='Salary',data=data)"
   ]
  },
  {
   "cell_type": "code",
   "execution_count": 24,
   "id": "7d3ca5a1",
   "metadata": {},
   "outputs": [],
   "source": [
    "X=data.iloc[:,:-1]\n",
    "Y=data.iloc[:,1]"
   ]
  },
  {
   "cell_type": "code",
   "execution_count": 25,
   "id": "ff6e977c",
   "metadata": {},
   "outputs": [],
   "source": [
    "train,test,train_label,test_label=train_test_split(X,Y,test_size=0.40,random_state=42,shuffle=True)"
   ]
  },
  {
   "cell_type": "code",
   "execution_count": 26,
   "id": "e3b08876",
   "metadata": {},
   "outputs": [],
   "source": [
    "Regression=LinearRegression()\n",
    "model=Regression.fit(train,train_label)"
   ]
  },
  {
   "cell_type": "code",
   "execution_count": 27,
   "id": "c2fecefa",
   "metadata": {},
   "outputs": [
    {
     "name": "stdout",
     "output_type": "stream",
     "text": [
      "Mean Absolute Error ::  5349.257075540304\n"
     ]
    }
   ],
   "source": [
    "predictions=model.predict(test)\n",
    "print(\"Mean Absolute Error :: \",mean_absolute_error(test_label,predictions))"
   ]
  },
  {
   "cell_type": "code",
   "execution_count": 28,
   "id": "4781fdf6",
   "metadata": {},
   "outputs": [
    {
     "name": "stdout",
     "output_type": "stream",
     "text": [
      "Mean Squared Error ::  37867393.388939455\n",
      "Root Mean Squared Error ::  73.13861548826519\n",
      "R2 Score ::  0.9532338376280692\n"
     ]
    }
   ],
   "source": [
    "print(\"Mean Squared Error :: \",mean_squared_error(test_label,predictions))\n",
    "print(\"Root Mean Squared Error :: \",np.sqrt(mean_absolute_error(test_label,predictions)))\n",
    "print(\"R2 Score :: \",r2_score(test_label,predictions))"
   ]
  },
  {
   "cell_type": "code",
   "execution_count": 30,
   "id": "b019d8c7",
   "metadata": {},
   "outputs": [
    {
     "name": "stdout",
     "output_type": "stream",
     "text": [
      "Slope ::  [9284.87835182] \t Intercept ::  26806.601413653705\n"
     ]
    }
   ],
   "source": [
    "slopem=model.coef_\n",
    "intercept=model.intercept_\n",
    "print(\"Slope :: \",slopem,\"\\t Intercept :: \",intercept)"
   ]
  },
  {
   "cell_type": "code",
   "execution_count": 32,
   "id": "94075c97",
   "metadata": {},
   "outputs": [
    {
     "data": {
      "image/png": "[encoded data removed]",
      "text/plain": [
       "<Figure size 432x288 with 1 Axes>"
      ]
     },
     "metadata": {
      "needs_background": "light"
     },
     "output_type": "display_data"
    }
   ],
   "source": [
    "plt.scatter(train,train_label,color=\"Blue\")\n",
    "plt.plot(train,model.predict(train),color=\"Green\")\n",
    "plt.title(\"Years of Experience Vs Salary Training Set\")\n",
    "plt.xlabel(\"Years of Experience\")\n",
    "plt.ylabel(\"Salary\")\n",
    "plt.show()"
   ]
  },
  {
   "cell_type": "code",
   "execution_count": null,
   "id": "fc5c459b",
   "metadata": {},
   "outputs": [],
   "source": [
    "plt.scatter(test,test_label,color=\"Red\")\n",
    "plt.plot(test,predictions,color=\"Yellow\")\n",
    "plt.title(\"Years of Experience Vs Salary Test Set\")\n",
    "plt.xlabel(\"Years of Experience\")\n",
    "plt.ylabel(\"Sal\")"
   ]
  }
 ],
 "metadata": {
  "kernelspec": {
   "display_name": "Python 3 (ipykernel)",
   "language": "python",
   "name": "python3"
  },
  "language_info": {
   "codemirror_mode": {
    "name": "ipython",
    "version": 3
   },
   "file_extension": ".py",
   "mimetype": "text/x-python",
   "name": "python",
   "nbconvert_exporter": "python",
   "pygments_lexer": "ipython3",
   "version": "3.9.7"
  }
 },
 "nbformat": 4,
 "nbformat_minor": 5
}
