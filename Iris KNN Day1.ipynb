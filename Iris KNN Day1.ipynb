{
 "cells": [
  {
   "cell_type": "code",
   "execution_count": 66,
   "id": "45401a23",
   "metadata": {},
   "outputs": [],
   "source": [
    "#Importing Libraries\n",
    "import pandas as pd\n",
    "from sklearn import datasets\n",
    "from sklearn.model_selection import train_test_split\n",
    "from sklearn.neighbors import KNeighborsClassifier\n",
    "from sklearn.metrics import accuracy_score,confusion_matrix,classification_report"
   ]
  },
  {
   "cell_type": "code",
   "execution_count": 67,
   "id": "53d6a53b",
   "metadata": {},
   "outputs": [
    {
     "name": "stdout",
     "output_type": "stream",
     "text": [
      "dict_keys(['data', 'target', 'frame', 'target_names', 'DESCR', 'feature_names', 'filename'])\n"
     ]
    }
   ],
   "source": [
    "#Loading Data\n",
    "iris=datasets.load_iris()\n",
    "print(iris.keys())"
   ]
  },
  {
   "cell_type": "code",
   "execution_count": 87,
   "id": "80075a6e",
   "metadata": {},
   "outputs": [
    {
     "name": "stdout",
     "output_type": "stream",
     "text": [
      "Feature Names ::  ['sepal length (cm)', 'sepal width (cm)', 'petal length (cm)', 'petal width (cm)']\n",
      "Target Names ::  ['setosa' 'versicolor' 'virginica']\n"
     ]
    }
   ],
   "source": [
    "feature_names=iris['feature_names']\n",
    "feature=iris['data']\n",
    "target_names=iris['target_names']\n",
    "labels=iris['target']\n",
    "print(\"Feature Names :: \",feature_names)\n",
    "print(\"Target Names :: \",target_names)"
   ]
  },
  {
   "cell_type": "code",
   "execution_count": 88,
   "id": "d4445deb",
   "metadata": {},
   "outputs": [],
   "source": [
    "#Creating DataFrame\n",
    "irisDataFrame=pd.DataFrame(columns=feature_names,data=feature)\n",
    "irisDataFrame['target']=labels"
   ]
  },
  {
   "cell_type": "code",
   "execution_count": 97,
   "id": "39a04ab3",
   "metadata": {},
   "outputs": [
    {
     "data": {
      "text/html": [
       "<div>\n",
       "<style scoped>\n",
       "    .dataframe tbody tr th:only-of-type {\n",
       "        vertical-align: middle;\n",
       "    }\n",
       "\n",
       "    .dataframe tbody tr th {\n",
       "        vertical-align: top;\n",
       "    }\n",
       "\n",
       "    .dataframe thead th {\n",
       "        text-align: right;\n",
       "    }\n",
       "</style>\n",
       "<table border=\"1\" class=\"dataframe\">\n",
       "  <thead>\n",
       "    <tr style=\"text-align: right;\">\n",
       "      <th></th>\n",
       "      <th>sepal length (cm)</th>\n",
       "      <th>sepal width (cm)</th>\n",
       "      <th>petal length (cm)</th>\n",
       "      <th>petal width (cm)</th>\n",
       "      <th>target</th>\n",
       "    </tr>\n",
       "  </thead>\n",
       "  <tbody>\n",
       "    <tr>\n",
       "      <th>143</th>\n",
       "      <td>6.8</td>\n",
       "      <td>3.2</td>\n",
       "      <td>5.9</td>\n",
       "      <td>2.3</td>\n",
       "      <td>2</td>\n",
       "    </tr>\n",
       "    <tr>\n",
       "      <th>70</th>\n",
       "      <td>5.9</td>\n",
       "      <td>3.2</td>\n",
       "      <td>4.8</td>\n",
       "      <td>1.8</td>\n",
       "      <td>1</td>\n",
       "    </tr>\n",
       "    <tr>\n",
       "      <th>59</th>\n",
       "      <td>5.2</td>\n",
       "      <td>2.7</td>\n",
       "      <td>3.9</td>\n",
       "      <td>1.4</td>\n",
       "      <td>1</td>\n",
       "    </tr>\n",
       "  </tbody>\n",
       "</table>\n",
       "</div>"
      ],
      "text/plain": [
       "     sepal length (cm)  sepal width (cm)  petal length (cm)  petal width (cm)  \\\n",
       "143                6.8               3.2                5.9               2.3   \n",
       "70                 5.9               3.2                4.8               1.8   \n",
       "59                 5.2               2.7                3.9               1.4   \n",
       "\n",
       "     target  \n",
       "143       2  \n",
       "70        1  \n",
       "59        1  "
      ]
     },
     "execution_count": 97,
     "metadata": {},
     "output_type": "execute_result"
    }
   ],
   "source": [
    "irisDataFrame.sample(3)"
   ]
  },
  {
   "cell_type": "code",
   "execution_count": 98,
   "id": "6c07c059",
   "metadata": {},
   "outputs": [
    {
     "data": {
      "text/plain": [
       "(150, 5)"
      ]
     },
     "execution_count": 98,
     "metadata": {},
     "output_type": "execute_result"
    }
   ],
   "source": [
    "#Shape of DataFrame\n",
    "irisDataFrame.shape"
   ]
  },
  {
   "cell_type": "code",
   "execution_count": 99,
   "id": "1afb73b4",
   "metadata": {},
   "outputs": [
    {
     "data": {
      "text/plain": [
       "0    50\n",
       "1    50\n",
       "2    50\n",
       "Name: target, dtype: int64"
      ]
     },
     "execution_count": 99,
     "metadata": {},
     "output_type": "execute_result"
    }
   ],
   "source": [
    "#Individual Target Counts\n",
    "irisDataFrame.target.value_counts()"
   ]
  },
  {
   "cell_type": "code",
   "execution_count": 100,
   "id": "32262560",
   "metadata": {},
   "outputs": [],
   "source": [
    "#Selecting X and Y data\n",
    "X=irisDataFrame.iloc[:,[j for j in range(irisDataFrame.shape[1]-1)]]\n",
    "Y=irisDataFrame.iloc[:,[irisDataFrame.shape[1]-1]]"
   ]
  },
  {
   "cell_type": "code",
   "execution_count": 101,
   "id": "f8e7b178",
   "metadata": {},
   "outputs": [],
   "source": [
    "#Splitting the data in the proportion of 0.40 for test and random_state=42 controls shuffling before split\n",
    "train,test,train_label,test_label=train_test_split(X,Y,test_size=0.40,random_state=42,shuffle=True)"
   ]
  },
  {
   "cell_type": "code",
   "execution_count": 102,
   "id": "30b827a4",
   "metadata": {},
   "outputs": [
    {
     "name": "stderr",
     "output_type": "stream",
     "text": [
      "C:\\Users\\lioni\\anaconda3\\lib\\site-packages\\sklearn\\neighbors\\_classification.py:179: DataConversionWarning: A column-vector y was passed when a 1d array was expected. Please change the shape of y to (n_samples,), for example using ravel().\n",
      "  return self._fit(X, y)\n"
     ]
    }
   ],
   "source": [
    "#Creating Object of KNN Classifier and Training Data \n",
    "knn=KNeighborsClassifier()\n",
    "model=knn.fit(train,train_label)\n",
    "predictions=model.predict(test)"
   ]
  },
  {
   "cell_type": "code",
   "execution_count": 103,
   "id": "cd50413e",
   "metadata": {},
   "outputs": [
    {
     "name": "stdout",
     "output_type": "stream",
     "text": [
      "Accuraccy of the model ::  0.9833333333333333\n",
      "\n",
      "\n",
      "Confusion Matrix :: \n",
      "     0   1   2\n",
      "0  23   0   0\n",
      "1   0  19   0\n",
      "2   0   1  17\n",
      "\n",
      "\n",
      "Classification Report :: \n",
      "               precision    recall  f1-score   support\n",
      "\n",
      "           0       1.00      1.00      1.00        23\n",
      "           1       0.95      1.00      0.97        19\n",
      "           2       1.00      0.94      0.97        18\n",
      "\n",
      "    accuracy                           0.98        60\n",
      "   macro avg       0.98      0.98      0.98        60\n",
      "weighted avg       0.98      0.98      0.98        60\n",
      "\n"
     ]
    }
   ],
   "source": [
    "print(\"Accuraccy of the model :: \",accuracy_score(test_label,predictions))\n",
    "print(\"\\n\")\n",
    "print(\"Confusion Matrix :: \\n\",pd.DataFrame(confusion_matrix(test_label,predictions)))\n",
    "print(\"\\n\")\n",
    "print(\"Classification Report :: \\n\",classification_report(test_label,predictions))"
   ]
  },
  {
   "cell_type": "code",
   "execution_count": 106,
   "id": "c8b99644",
   "metadata": {},
   "outputs": [
    {
     "data": {
      "text/plain": [
       "\"\\nConfusion Matrix shows the table of Actual value rows/ Predicted Values Columns Here, 23 test samples are corretcly\\npredicted for 'setosa' , 19 for 'versicolor' and 17 'virginica' \\n\""
      ]
     },
     "execution_count": 106,
     "metadata": {},
     "output_type": "execute_result"
    }
   ],
   "source": [
    "'''\n",
    "Confusion Matrix shows the table of Actual value rows/ Predicted Values Columns Here, 23 test samples are corretcly\n",
    "predicted for 'setosa' , 19 for 'versicolor' and 17 'virginica' \n",
    "'''"
   ]
  },
  {
   "cell_type": "code",
   "execution_count": 107,
   "id": "2bafd1a4",
   "metadata": {},
   "outputs": [
    {
     "data": {
      "text/plain": [
       "'\\n    Classification Report :\\n    Precision is the ratio of correctly predicted positive observations to the total predicted positive observations\\n    Recall is the ratio of correctly predicted observations to all observations in actual class\\n    F1-Score is the average of precision and recall\\n    Support is the number of samples of the true response that lie in that class.\\n'"
      ]
     },
     "execution_count": 107,
     "metadata": {},
     "output_type": "execute_result"
    }
   ],
   "source": [
    "'''\n",
    "    Classification Report :\n",
    "    Precision is the ratio of correctly predicted positive observations to the total predicted positive observations\n",
    "    Recall is the ratio of correctly predicted observations to all observations in actual class\n",
    "    F1-Score is the average of precision and recall\n",
    "    Support is the number of samples of the true response that lie in that class.\n",
    "'''"
   ]
  },
  {
   "cell_type": "code",
   "execution_count": null,
   "id": "24fa5839",
   "metadata": {},
   "outputs": [],
   "source": []
  }
 ],
 "metadata": {
  "kernelspec": {
   "display_name": "Python 3 (ipykernel)",
   "language": "python",
   "name": "python3"
  },
  "language_info": {
   "codemirror_mode": {
    "name": "ipython",
    "version": 3
   },
   "file_extension": ".py",
   "mimetype": "text/x-python",
   "name": "python",
   "nbconvert_exporter": "python",
   "pygments_lexer": "ipython3",
   "version": "3.9.7"
  }
 },
 "nbformat": 4,
 "nbformat_minor": 5
}
